{
  "nbformat": 4,
  "nbformat_minor": 0,
  "metadata": {
    "colab": {
      "provenance": []
    },
    "kernelspec": {
      "name": "python3",
      "display_name": "Python 3"
    },
    "language_info": {
      "name": "python"
    }
  },
  "cells": [
    {
      "cell_type": "code",
      "source": [
        "import PyPDF2  # Commented out for future potential (PDF conversion)\n",
        "from nltk.tokenize import word_tokenize\n",
        "from nltk.corpus import wordnet  # Import for synonym finding\n",
        "import difflib  # Import for efficient string similarity comparison"
      ],
      "metadata": {
        "id": "A_thvOIIvD8V"
      },
      "execution_count": 63,
      "outputs": []
    },
    {
      "cell_type": "code",
      "source": [
        "def extract_text_from_txt(txt_path):\n",
        "    \"\"\"Extracts text from a TXT file.\"\"\"\n",
        "    try:\n",
        "        with open(txt_path, 'r') as txt_file:\n",
        "            text = txt_file.read().strip()\n",
        "            return text\n",
        "    except FileNotFoundError:\n",
        "        print(\"Error: TXT file not found.\")\n",
        "        return None"
      ],
      "metadata": {
        "id": "sxVOwEYcwh9G"
      },
      "execution_count": 64,
      "outputs": []
    },
    {
      "cell_type": "code",
      "source": [
        "def tokenize_text(text):\n",
        "    \"\"\"Tokenizes the extracted text.\"\"\"\n",
        "    tokens = word_tokenize(text.lower())\n",
        "    return tokens"
      ],
      "metadata": {
        "id": "Ei8QRGQPwi38"
      },
      "execution_count": 65,
      "outputs": []
    },
    {
      "cell_type": "code",
      "source": [
        "def find_similar_words(word, similarity_threshold=0.7):\n",
        "    \"\"\"Finds synonyms for a given word using WordNet.\"\"\"\n",
        "    synonyms = []\n",
        "    for synset in wordnet.synsets(word):\n",
        "        for lemma in synset.lemmas():\n",
        "            synonyms.append(lemma.name())\n",
        "    return [synonym for synonym in synonyms if difflib.SequenceMatcher(None, word, synonym).ratio() >= similarity_threshold]\n"
      ],
      "metadata": {
        "id": "0rNjUFnwwqxU"
      },
      "execution_count": 66,
      "outputs": []
    },
    {
      "cell_type": "code",
      "source": [
        "def update_text_file(txt_path, old_text, new_text):\n",
        "    \"\"\"Updates the text in the TXT file.\"\"\"\n",
        "    try:\n",
        "        with open(txt_path, 'r') as txt_file:\n",
        "            text = txt_file.read()\n",
        "        replaced_text = text.replace(old_text, new_text)\n",
        "\n",
        "        with open(txt_path, 'w') as txt_file:\n",
        "            txt_file.write(replaced_text)\n",
        "        print(\"Text file updated successfully.\")\n",
        "    except FileNotFoundError:\n",
        "        print(\"Error: TXT file not found.\")\n"
      ],
      "metadata": {
        "id": "QjSmJ7qFw20h"
      },
      "execution_count": 67,
      "outputs": []
    },
    {
      "cell_type": "code",
      "source": [
        "def main():\n",
        "    txt_path = input(\"Enter the TXT file path: \")\n",
        "    text = extract_text_from_txt(txt_path)\n",
        "\n",
        "    if text:\n",
        "        tokens = tokenize_text(text)\n",
        "\n",
        "        while True:\n",
        "            keyword = input(\"Enter a keyword to find similar words (or 'q' to quit): \")\n",
        "            if keyword.lower() == 'q':\n",
        "                break\n",
        "\n",
        "            similar_words = find_similar_words(keyword)\n",
        "\n",
        "            if similar_words:\n",
        "                print(\"Found similar words:\", \", \".join(similar_words))\n",
        "\n",
        "                replacement = input(\"Enter the replacement word (or 'n' to skip): \")\n",
        "                if replacement.lower() != 'n':\n",
        "                    old_text = keyword\n",
        "                    new_text = replacement\n",
        "                    print(f\"Updating '{old_text}' to '{new_text}' in the text file.\")\n",
        "                    update_text_file(txt_path, old_text, new_text)\n",
        "\n",
        "if __name__ == \"__main__\":\n",
        "    main()"
      ],
      "metadata": {
        "colab": {
          "base_uri": "https://localhost:8080/"
        },
        "id": "CBmjB5-kw6oe",
        "outputId": "0997eee6-e0ce-444f-ea3e-97474c23d94e"
      },
      "execution_count": 68,
      "outputs": [
        {
          "name": "stdout",
          "output_type": "stream",
          "text": [
            "Enter the TXT file path: /content/Employee-Handbook.txt\n",
            "Enter a keyword to find similar words (or 'q' to quit): harassment\n",
            "Found similar words: harassment, harassment\n",
            "Enter the replacement word (or 'n' to skip): HARASSMENT\n",
            "Updating 'harassment' to 'HARASSMENT' in the text file.\n",
            "Text file updated successfully.\n",
            "Enter a keyword to find similar words (or 'q' to quit): q\n"
          ]
        }
      ]
    }
  ]
}